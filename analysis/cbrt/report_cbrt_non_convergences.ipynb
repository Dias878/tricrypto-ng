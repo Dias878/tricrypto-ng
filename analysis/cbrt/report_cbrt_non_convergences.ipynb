{
 "cells": [
  {
   "cell_type": "code",
   "execution_count": 1,
   "metadata": {},
   "outputs": [],
   "source": [
    "import pandas as pd\n",
    "import numpy as np\n",
    "\n",
    "# plotting:\n",
    "import matplotlib.pyplot as plt\n",
    "import seaborn as sns\n",
    "sns.set_style(\"whitegrid\")\n",
    "\n",
    "# for handling SettingWithCopyWarning\n",
    "from pandas.core.common import SettingWithCopyWarning\n",
    "import warnings\n",
    "\n",
    "warnings.simplefilter(action=\"ignore\", category=SettingWithCopyWarning)"
   ]
  },
  {
   "cell_type": "code",
   "execution_count": 2,
   "metadata": {},
   "outputs": [
    {
     "data": {
      "text/html": [
       "<div>\n",
       "<style scoped>\n",
       "    .dataframe tbody tr th:only-of-type {\n",
       "        vertical-align: middle;\n",
       "    }\n",
       "\n",
       "    .dataframe tbody tr th {\n",
       "        vertical-align: top;\n",
       "    }\n",
       "\n",
       "    .dataframe thead th {\n",
       "        text-align: right;\n",
       "    }\n",
       "</style>\n",
       "<table border=\"1\" class=\"dataframe\">\n",
       "  <thead>\n",
       "    <tr style=\"text-align: right;\">\n",
       "      <th></th>\n",
       "      <th>input</th>\n",
       "      <th>initial_value</th>\n",
       "      <th>cbrt_ideal</th>\n",
       "    </tr>\n",
       "  </thead>\n",
       "  <tbody>\n",
       "    <tr>\n",
       "      <th>0</th>\n",
       "      <td>8.896011e+76</td>\n",
       "      <td>4.017670e+38</td>\n",
       "      <td>4.464078e+37</td>\n",
       "    </tr>\n",
       "    <tr>\n",
       "      <th>1</th>\n",
       "      <td>4.718831e+76</td>\n",
       "      <td>3.557128e+38</td>\n",
       "      <td>3.613639e+37</td>\n",
       "    </tr>\n",
       "    <tr>\n",
       "      <th>2</th>\n",
       "      <td>1.033686e+77</td>\n",
       "      <td>4.693133e+38</td>\n",
       "      <td>4.693133e+37</td>\n",
       "    </tr>\n",
       "    <tr>\n",
       "      <th>3</th>\n",
       "      <td>4.302156e+76</td>\n",
       "      <td>3.503984e+38</td>\n",
       "      <td>3.503984e+37</td>\n",
       "    </tr>\n",
       "    <tr>\n",
       "      <th>4</th>\n",
       "      <td>6.802387e+76</td>\n",
       "      <td>4.082133e+38</td>\n",
       "      <td>4.082133e+37</td>\n",
       "    </tr>\n",
       "    <tr>\n",
       "      <th>...</th>\n",
       "      <td>...</td>\n",
       "      <td>...</td>\n",
       "      <td>...</td>\n",
       "    </tr>\n",
       "    <tr>\n",
       "      <th>6338</th>\n",
       "      <td>9.176669e+76</td>\n",
       "      <td>3.950199e+38</td>\n",
       "      <td>4.510538e+37</td>\n",
       "    </tr>\n",
       "    <tr>\n",
       "      <th>6339</th>\n",
       "      <td>8.788898e+76</td>\n",
       "      <td>4.446089e+38</td>\n",
       "      <td>4.446089e+37</td>\n",
       "    </tr>\n",
       "    <tr>\n",
       "      <th>6340</th>\n",
       "      <td>8.249626e+76</td>\n",
       "      <td>4.353228e+38</td>\n",
       "      <td>4.353228e+37</td>\n",
       "    </tr>\n",
       "    <tr>\n",
       "      <th>6341</th>\n",
       "      <td>7.932113e+76</td>\n",
       "      <td>4.296647e+38</td>\n",
       "      <td>4.296647e+37</td>\n",
       "    </tr>\n",
       "    <tr>\n",
       "      <th>6342</th>\n",
       "      <td>4.164320e+76</td>\n",
       "      <td>3.466155e+38</td>\n",
       "      <td>3.466155e+37</td>\n",
       "    </tr>\n",
       "  </tbody>\n",
       "</table>\n",
       "<p>6343 rows × 3 columns</p>\n",
       "</div>"
      ],
      "text/plain": [
       "             input  initial_value    cbrt_ideal\n",
       "0     8.896011e+76   4.017670e+38  4.464078e+37\n",
       "1     4.718831e+76   3.557128e+38  3.613639e+37\n",
       "2     1.033686e+77   4.693133e+38  4.693133e+37\n",
       "3     4.302156e+76   3.503984e+38  3.503984e+37\n",
       "4     6.802387e+76   4.082133e+38  4.082133e+37\n",
       "...            ...            ...           ...\n",
       "6338  9.176669e+76   3.950199e+38  4.510538e+37\n",
       "6339  8.788898e+76   4.446089e+38  4.446089e+37\n",
       "6340  8.249626e+76   4.353228e+38  4.353228e+37\n",
       "6341  7.932113e+76   4.296647e+38  4.296647e+37\n",
       "6342  4.164320e+76   3.466155e+38  3.466155e+37\n",
       "\n",
       "[6343 rows x 3 columns]"
      ]
     },
     "execution_count": 2,
     "metadata": {},
     "output_type": "execute_result"
    }
   ],
   "source": [
    "data = pd.read_csv(\"./data_non_convergences.csv\", low_memory=False).drop_duplicates().reset_index(drop=True)\n",
    "data[\"input\"] = data[\"input\"].astype(float)\n",
    "data[\"initial_value\"] = data[\"initial_value\"].astype(float)\n",
    "data[\"cbrt_ideal\"] = data[\"cbrt_ideal\"].astype(float)\n",
    "\n",
    "data"
   ]
  },
  {
   "cell_type": "code",
   "execution_count": 5,
   "metadata": {},
   "outputs": [
    {
     "data": {
      "image/png": "[encoded data removed]",
      "text/plain": [
       "<Figure size 800x800 with 1 Axes>"
      ]
     },
     "metadata": {},
     "output_type": "display_data"
    }
   ],
   "source": [
    "fig, ax = plt.subplots(1,1, figsize=(8, 8))\n",
    "\n",
    "ax.hist(data.input, 50)\n",
    "ax.set_title(\"\", fontsize=20)\n",
    "\n",
    "ax.tick_params(axis='both', which='major', labelsize=20)\n",
    "ax.tick_params(axis='x', which='major', colors='black')\n",
    "ax.set_xscale('log')\n",
    "# ax.set_xlabel(\"niter\", fontsize=20);"
   ]
  },
  {
   "cell_type": "code",
   "execution_count": null,
   "metadata": {},
   "outputs": [],
   "source": []
  }
 ],
 "metadata": {
  "kernelspec": {
   "display_name": "Python 3.10.4 ('venv': venv)",
   "language": "python",
   "name": "python3"
  },
  "language_info": {
   "codemirror_mode": {
    "name": "ipython",
    "version": 3
   },
   "file_extension": ".py",
   "mimetype": "text/x-python",
   "name": "python",
   "nbconvert_exporter": "python",
   "pygments_lexer": "ipython3",
   "version": "3.10.4"
  },
  "orig_nbformat": 4,
  "vscode": {
   "interpreter": {
    "hash": "6a0f50e8ebc43d80a3e1d9d1db40ab1604cd0a4328dd23fa6e45c7941c706f08"
   }
  }
 },
 "nbformat": 4,
 "nbformat_minor": 2
}
